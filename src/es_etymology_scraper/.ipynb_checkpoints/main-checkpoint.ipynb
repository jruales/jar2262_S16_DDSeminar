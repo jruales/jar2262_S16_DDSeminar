{
 "cells": [
  {
   "cell_type": "markdown",
   "metadata": {},
   "source": [
    "# Spanish Etymology Scraper"
   ]
  },
  {
   "cell_type": "markdown",
   "metadata": {},
   "source": [
    "## UTF-8 encoding, imports, and constants"
   ]
  },
  {
   "cell_type": "code",
   "execution_count": 6,
   "metadata": {
    "collapsed": false,
    "scrolled": true
   },
   "outputs": [],
   "source": [
    "# -*- coding: utf-8 -*-\n",
    "%matplotlib inline\n",
    "\n",
    "import os.path\n",
    "import re\n",
    "import time\n",
    "\n",
    "from bs4 import BeautifulSoup\n",
    "from urllib2 import quote\n",
    "import matplotlib.pyplot as plt\n",
    "import pickle\n",
    "import requests\n",
    "\n",
    "# ------------------------------------------------------------------------------\n",
    "# When DEBUGGING = True, program will print more info and load only first 25\n",
    "# words. (Note: zer-indexed word number 22, i.e. 'más', is the first one with a\n",
    "# non-ascii character, it's important to include it when debugging string\n",
    "# encodings).\n",
    "DEBUGGING = True\n",
    "NUM_WORDS_IN_DEBUG_MODE = 50 # originally 25\n",
    "\n",
    "# Directory holding unigram count files.\n",
    "UNIGRAM_COUNTS_DIR = 'unigram_counts/'\n",
    "# 1000 most common CREA corpus unigrams, 36KB.\n",
    "UNIGRAM_COUNTS_FILENAME_SMALL = '1000_formas.txt'\n",
    "# 5000 most common CREA corpus unigrams, 188KB.\n",
    "UNIGRAM_COUNTS_FILENAME_MEDIUM = '5000_formas.txt'\n",
    "# 10000 most common CREA corpus unigrams, 379KB.\n",
    "UNIGRAM_COUNTS_FILENAME_LARGE = '10000_formas.txt'\n",
    "# All 737799 CREA corpus unigrams, 29MB.\n",
    "UNIGRAM_COUNTS_FILENAME_EXTRA_LARGE = 'CREA_total.txt'\n",
    "\n",
    "HTML_RESPONSES_LIST_CACHE_FILENAME = 'html_responses_list_cache.pkl'\n",
    "\n",
    "ARTICLE_HTML_TAG_REGEX = re.compile('<article')\n",
    "DICTIONARY_ENTRY_ID_CAPTURE_REGEX = re.compile('\"fetch\\?id=(.*?)\"')\n",
    "\n",
    "SPANISH_ETYMOLOGY_REGEX = re.compile(ur'<abbr title=\"Apócope\">Apóc.</abbr>' +\n",
    "                                     ur'|<abbr title=\"antiguo\">ant.</abbr>')\n",
    "LATIN_ETYMOLOGY_REGEX = re.compile(ur'<abbr title=\"latín\">lat.</abbr>')\n",
    "GREEK_ETYMOLOGY_REGEX = re.compile(ur'<abbr title=\"griego\">gr.</abbr>')\n",
    "\n",
    "LANGUAGE_ETYMOLOGY_REGEXES = [\n",
    "    ('SPANISH', SPANISH_ETYMOLOGY_REGEX),\n",
    "    ('Latin', LATIN_ETYMOLOGY_REGEX),\n",
    "    ('GREEK', GREEK_ETYMOLOGY_REGEX),\n",
    "    ]\n",
    "\n",
    "FULL_UNIGRAM_COUNTS_FILENAME = \\\n",
    "    UNIGRAM_COUNTS_DIR + UNIGRAM_COUNTS_FILENAME_MEDIUM"
   ]
  },
  {
   "cell_type": "markdown",
   "metadata": {},
   "source": [
    "## Auxiliary Functions"
   ]
  },
  {
   "cell_type": "code",
   "execution_count": 7,
   "metadata": {
    "collapsed": false
   },
   "outputs": [],
   "source": [
    "def parse_unigrams_and_frequencies(full_unigram_counts_filename):\n",
    "    \"\"\"\n",
    "    Parses unigram counts from CREA corpus count file and returns a list of\n",
    "    words and a list of their corresponding frequencies.\n",
    "    \"\"\"\n",
    "    #counts_dict = {}\n",
    "    word_list = []\n",
    "    frequency_list = []\n",
    "    with open(full_unigram_counts_filename, 'r') as f:\n",
    "        for line_number, line in enumerate(f):\n",
    "            if line_number is 0 or line.isspace() or not line:\n",
    "                continue\n",
    "            if DEBUGGING and line_number is (NUM_WORDS_IN_DEBUG_MODE+1):\n",
    "                break\n",
    "            #print(line)\n",
    "            _, word, freq_count_str, _ = line.split()\n",
    "            freq_count = int(freq_count_str.replace(',', ''))\n",
    "            # Unigram files are encoded in latin-1. Decode them.\n",
    "            decoded_word = word.decode('latin1').encode('utf-8')\n",
    "            #print(decoded_word + ' ' + freq_count_str)\n",
    "            #counts_dict[decoded_word] = freq_count\n",
    "            word_list.append(decoded_word)\n",
    "            frequency_list.append(freq_count)\n",
    "    #return counts_dict\n",
    "    return word_list, frequency_list\n",
    "\n",
    "def plot_frequencies_and_zipfs_law(word_list,\n",
    "                                   frequency_list,\n",
    "                                   min_rank=1):\n",
    "    if len(frequency_list) > min_rank:\n",
    "        plot_range = range(min_rank, len(frequency_list)+1)\n",
    "        plt.plot(plot_range,\n",
    "                 frequency_list[min_rank-1:],\n",
    "                 '-',\n",
    "                 label='counts')\n",
    "        plt.plot(plot_range,\n",
    "                 [frequency_list[0]/x for x in plot_range],\n",
    "                 '-',\n",
    "                 label='(frequency of word #1)/(word rank)')\n",
    "        plt.legend()\n",
    "        plt.title('Word Frequency Decay')\n",
    "        plt.ylabel('Frequency')\n",
    "        plt.xlabel('Word frequency rank (Words ranked '\n",
    "                   + str(min_rank)\n",
    "                   + ' or less frequent)')\n",
    "        plt.show()\n",
    "\n",
    "def generate_dictionary_lookup_url(word=None, search_type='by_word'):\n",
    "    \"\"\"\n",
    "    possible search types: 'by_word', 'exact_match', 'begins_with', 'ends_with',\n",
    "    'contains', or 'random'\n",
    "    - 'by_word' matches the searched term, or any verb that conjugates to the\n",
    "      search term\n",
    "    - 'random' ignores the word and gets a URL for a random word.\n",
    "    - The rest of the search types are self-explanatory\n",
    "    \"\"\"\n",
    "    base_url = 'http://dle.rae.es/srv/'\n",
    "    \n",
    "    if search_type is 'random':\n",
    "        # Make sure search term is undefined.\n",
    "        if word:\n",
    "            raise\n",
    "        return base_url + 'random'\n",
    "    \n",
    "    # Make sure search term is defined.\n",
    "    if word is None:\n",
    "        raise\n",
    "\n",
    "    if search_type is 'by_word':\n",
    "        return base_url + 'search?w=' + quote(word) + '&m=form'\n",
    "    elif search_type is 'exact_match':\n",
    "        return base_url + 'search?w=' + quote(word) + '&m=30'\n",
    "    elif search_type is 'begins_with':\n",
    "        return base_url + 'search?w=' + quote(word) + '&m=31'\n",
    "    elif search_type is 'ends_with':\n",
    "        return base_url + 'search?w=' + quote(word) + '&m=32'\n",
    "    elif search_type is 'contains':\n",
    "        return base_url + 'search?w=' + quote(word) + '&m=33'\n",
    "    else:\n",
    "        raise\n",
    "\n",
    "def generate_dictionary_entry_url(entry_id):\n",
    "    return 'http://dle.rae.es/srv/fetch?id=' + entry_id\n",
    "\n",
    "def scrape_definition_html_responses(word):\n",
    "    print(word)\n",
    "    # Get lookup URL.\n",
    "    url = generate_dictionary_lookup_url(word=word, search_type='exact_match')\n",
    "    print(url)\n",
    "    # Retrieve HTML.\n",
    "    r  = requests.get(url)\n",
    "    html_response = r.text\n",
    "    if ARTICLE_HTML_TAG_REGEX.search(html_response):\n",
    "        # Redirected to definition page. Save HTML directly.\n",
    "        \n",
    "        print('Redirected to definition page')\n",
    "        return [html_response]\n",
    "    else:\n",
    "        # Showing listing of many entries. Need to follow links.\n",
    "        \n",
    "        html_responses = []\n",
    "        for entry_id in DICTIONARY_ENTRY_ID_CAPTURE_REGEX.finditer(html_response):\n",
    "            url = generate_dictionary_entry_url(entry_id=entry_id.group(1))\n",
    "            r  = requests.get(url)\n",
    "            html_response = r.text\n",
    "            html_responses.append(html_response)\n",
    "        return html_responses\n",
    "    # Rate limiting for respect towards RAE.\n",
    "    time.sleep(0.8 + 0.4*random.random())\n",
    "\n",
    "def get_definition_html_responses(word_list):\n",
    "    _html_responses_list = []\n",
    "    if os.path.isfile(HTML_RESPONSES_LIST_CACHE_FILENAME):\n",
    "        # Load cache file.\n",
    "\n",
    "        print('Cache file found. Loading it now.')\n",
    "\n",
    "        pkl_file = open(HTML_RESPONSES_LIST_CACHE_FILENAME, 'rb')\n",
    "        _html_responses_list = pickle.load(pkl_file)\n",
    "        print(len(_html_responses_list))\n",
    "\n",
    "    if len(_html_responses_list) < len(word_list):\n",
    "        # Cache file is incomplete. Scrape the missing items and cache them.\n",
    "\n",
    "        print('Scraping new definitions.')\n",
    "\n",
    "        start_word_index = len(_html_responses_list)\n",
    "        for i in xrange(start_word_index, len(word_list)):\n",
    "            _html_responses_list.append(scrape_definition_html_responses(word=word_list[i]))\n",
    "\n",
    "        # Open cache file in overwrite mode.\n",
    "        outfile = open(HTML_RESPONSES_LIST_CACHE_FILENAME, 'wb')\n",
    "        # Save cache to cache file.\n",
    "        pickle.dump(_html_responses_list, outfile)\n",
    "        print('Saving Cache File.')\n",
    "        outfile.close()\n",
    "    return _html_responses_list"
   ]
  },
  {
   "cell_type": "markdown",
   "metadata": {},
   "source": [
    "## Get list of words to look up, and plot their frequency"
   ]
  },
  {
   "cell_type": "code",
   "execution_count": 10,
   "metadata": {
    "collapsed": false
   },
   "outputs": [
    {
     "name": "stdout",
     "output_type": "stream",
     "text": [
      "DEBUGGING?: True\n",
      "Number of words loaded: 50\n",
      "Max Frequency: 9999518\n",
      "Min Frequency: 194168\n",
      "Word ranked #23 (It should be 'más'): más\n",
      "\n",
      "Top 25 words and their frequencies:\n",
      "[('de', 9999518), ('la', 6277560), ('que', 4681839), ('el', 4569652), ('en', 4234281), ('y', 4180279), ('a', 3260939), ('los', 2618657), ('se', 2022514), ('del', 1857225), ('las', 1686741), ('un', 1659827), ('por', 1561904), ('con', 1481607), ('no', 1465503), ('una', 1347603), ('su', 1103617), ('para', 1062152), ('es', 1019669), ('al', 951054), ('lo', 866955), ('como', 773465), ('m\\xc3\\xa1s', 661696), ('o', 542284), ('pero', 450512), ('sus', 449870), ('le', 413241), ('ha', 380339), ('me', 374368), ('si', 327480), ('sin', 298383), ('sobre', 289704), ('este', 285461), ('ya', 274177), ('entre', 267493), ('cuando', 257272), ('todo', 247340), ('esta', 238841), ('ser', 232924), ('son', 232415), ('dos', 228439), ('tambi\\xc3\\xa9n', 227411), ('fue', 223791), ('hab\\xc3\\xada', 223430), ('era', 219933), ('muy', 208540), ('a\\xc3\\xb1os', 203027), ('hasta', 202935), ('desde', 198647), ('est\\xc3\\xa1', 194168)]\n",
      "\n",
      "The word counts approximate Zipf's law\n"
     ]
    },
    {
     "data": {
      "image/png": "[encoded data removed]",
      "text/plain": [
       "<matplotlib.figure.Figure at 0x10af84690>"
      ]
     },
     "metadata": {},
     "output_type": "display_data"
    }
   ],
   "source": [
    "word_list, frequency_list = parse_unigrams_and_frequencies(FULL_UNIGRAM_COUNTS_FILENAME)\n",
    "\n",
    "print('DEBUGGING?: ' + str(DEBUGGING))\n",
    "print('Number of words loaded: ' + str(len(word_list)))\n",
    "print('Max Frequency: ' + str(frequency_list[0]))\n",
    "print('Min Frequency: ' + str(frequency_list[-1]))\n",
    "print('Word ranked #23 (It should be \\'más\\'): ' + word_list[22])\n",
    "\n",
    "print('')\n",
    "\n",
    "print('Top 25 words and their frequencies:')\n",
    "print(zip(word_list[:50], frequency_list[:50]))\n",
    "\n",
    "print('')\n",
    "\n",
    "print('The word counts approximate Zipf\\'s law')\n",
    "for min_rank in [1, 50, 100]:\n",
    "    plot_frequencies_and_zipfs_law(word_list=word_list,\n",
    "                                   frequency_list=frequency_list,\n",
    "                                   min_rank=min_rank)"
   ]
  },
  {
   "cell_type": "markdown",
   "metadata": {},
   "source": [
    "## Get definitions from cache (or scrape and cache if not cached yet)"
   ]
  },
  {
   "cell_type": "code",
   "execution_count": 9,
   "metadata": {
    "collapsed": false
   },
   "outputs": [
    {
     "name": "stdout",
     "output_type": "stream",
     "text": [
      "Cache file found. Loading it now.\n",
      "50\n"
     ]
    }
   ],
   "source": [
    "html_responses_list = get_definition_html_responses(word_list=word_list)"
   ]
  },
  {
   "cell_type": "markdown",
   "metadata": {},
   "source": [
    "## Scraping Loop"
   ]
  },
  {
   "cell_type": "code",
   "execution_count": 12,
   "metadata": {
    "collapsed": false,
    "scrolled": true
   },
   "outputs": [
    {
     "name": "stdout",
     "output_type": "stream",
     "text": [
      "Word \"de\" comes from Latin\n",
      "la: <p class=\"n2\"><i><abbr title=\"Confer\">Cf.</abbr></i> <em>fa.</em></p>\n",
      "Word \"la\" comes from Latin\n",
      "Word \"que\" comes from Latin\n",
      "Word \"el\" comes from Latin\n",
      "Word \"en\" comes from Latin\n",
      "Word \"y\" comes from Latin\n",
      "Word \"y\" comes from Latin\n",
      "Word \"a\" comes from Latin\n",
      "Word \"se\" comes from Latin\n",
      "Word \"se\" comes from SPANISH\n",
      "Word \"se\" comes from Latin\n",
      "Word \"por\" comes from Latin\n",
      "Word \"con\" comes from Latin\n",
      "Word \"no\" comes from Latin\n",
      "Word \"una\" comes from Latin\n",
      "una: <p class=\"n2\">De <em>uno</em><sup>1</sup>.</p>\n",
      "Word \"su\" comes from SPANISH\n",
      "Word \"para\" comes from SPANISH\n",
      "WARNING: no definitions found for word \"es\"\n",
      "Word \"lo\" comes from Latin\n",
      "Word \"como\" comes from GREEK\n",
      "Word \"como\" comes from Latin\n",
      "Word \"más\" comes from SPANISH\n",
      "Word \"más\" comes from Latin\n",
      "Word \"o\" comes from Latin\n",
      "Word \"o\" comes from Latin\n",
      "Word \"pero\" comes from Latin\n",
      "pero: <p class=\"n2\">De <em>Pedro.</em></p>\n",
      "Word \"pero\" comes from Latin\n",
      "sus: <p class=\"n2\">De <em>suso.</em></p>\n",
      "Word \"le\" comes from Latin\n",
      "Word \"me\" comes from Latin\n",
      "Word \"si\" comes from Latin\n",
      "si: <p class=\"n2\">De <em>S<span class=\"i5\">ancte</span> I<span class=\"i5\">oannes,</span></em> las iniciales de las dos primeras palabras del cuarto verso de la estrofa con que empieza el himno de San Juan Bautista; <i><abbr title=\"confer\">cf.</abbr></i> <em>fa.</em></p>\n",
      "Word \"sin\" comes from Latin\n",
      "Word \"sobre\" comes from Latin\n",
      "Word \"este\" comes from SPANISH\n",
      "Word \"este\" comes from Latin\n",
      "Word \"ya\" comes from Latin\n",
      "Word \"entre\" comes from Latin\n",
      "Word \"cuando\" comes from Latin\n",
      "Word \"todo\" comes from Latin\n",
      "Word \"esta\" comes from Latin\n",
      "ser: <p class=\"n2\">De <em>seer.</em></p>\n",
      "Word \"son\" comes from Latin\n",
      "Word \"dos\" comes from Latin\n"
     ]
    },
    {
     "ename": "UnicodeDecodeError",
     "evalue": "'ascii' codec can't decode byte 0xc3 in position 5: ordinal not in range(128)",
     "output_type": "error",
     "traceback": [
      "\u001b[0;31m---------------------------------------------------------------------------\u001b[0m",
      "\u001b[0;31mUnicodeDecodeError\u001b[0m                        Traceback (most recent call last)",
      "\u001b[0;32m<ipython-input-12-6e9b99dbcd49>\u001b[0m in \u001b[0;36m<module>\u001b[0;34m()\u001b[0m\n\u001b[1;32m     16\u001b[0m                     \u001b[0mnum_origins\u001b[0m \u001b[0;34m=\u001b[0m \u001b[0mnum_origins\u001b[0m \u001b[0;34m+\u001b[0m \u001b[0;36m1\u001b[0m\u001b[0;34m\u001b[0m\u001b[0m\n\u001b[1;32m     17\u001b[0m             \u001b[0;32mif\u001b[0m \u001b[0mnum_origins\u001b[0m \u001b[0;34m==\u001b[0m \u001b[0;36m0\u001b[0m\u001b[0;34m:\u001b[0m\u001b[0;34m\u001b[0m\u001b[0m\n\u001b[0;32m---> 18\u001b[0;31m                 \u001b[0;32mprint\u001b[0m\u001b[0;34m(\u001b[0m\u001b[0mword_list\u001b[0m\u001b[0;34m[\u001b[0m\u001b[0mi\u001b[0m\u001b[0;34m]\u001b[0m \u001b[0;34m+\u001b[0m \u001b[0;34m\": \"\u001b[0m \u001b[0;34m+\u001b[0m \u001b[0municode\u001b[0m\u001b[0;34m(\u001b[0m\u001b[0metymology_string\u001b[0m\u001b[0;34m)\u001b[0m\u001b[0;34m)\u001b[0m\u001b[0;34m\u001b[0m\u001b[0m\n\u001b[0m",
      "\u001b[0;31mUnicodeDecodeError\u001b[0m: 'ascii' codec can't decode byte 0xc3 in position 5: ordinal not in range(128)"
     ]
    }
   ],
   "source": [
    "# Main loop\n",
    "for i, html_responses in enumerate(html_responses_list):\n",
    "    if len(html_responses) == 0:\n",
    "        print('WARNING: no definitions found for word \"' + word_list[i] + '\"')\n",
    "        continue\n",
    "    for html_response in html_responses:\n",
    "        soup = BeautifulSoup(html_response, \"lxml\")\n",
    "        # print(soup.header)\n",
    "        etymology_strings = soup.find_all(class_='n2')\n",
    "        # print(etymology_strings)\n",
    "        for etymology_string in etymology_strings:\n",
    "            num_origins = 0\n",
    "            for (language_name, language_etymology_regex) in LANGUAGE_ETYMOLOGY_REGEXES:\n",
    "                if language_etymology_regex.search(unicode(etymology_string)):\n",
    "                    print('Word \"' + word_list[i] + '\" comes from ' + language_name)\n",
    "                    num_origins = num_origins + 1\n",
    "            if num_origins == 0:\n",
    "                print(word_list[i] + \": \" + unicode(etymology_string))"
   ]
  },
  {
   "cell_type": "markdown",
   "metadata": {},
   "source": [
    "## Scraping"
   ]
  },
  {
   "cell_type": "markdown",
   "metadata": {
    "collapsed": true
   },
   "source": [
    "**Some things to consider before scraping.**\n",
    "\n",
    "Strange examples:\n",
    "- Word definition is just a link to a variant: e.g. 'oósfera' (http://dle.rae.es/?id=R5P5ZTh) This only occurs during 'exact_match' search. 'by_word' search automatically redirects to the other word.\n",
    "- Definition header shows word variant: http://dle.rae.es/?id=R5OqL2A\n",
    "- Word not found\n",
    "- Several words found even with 'exact_match': e.g. 'si' http://dle.rae.es/srv/search?w=si&m=30"
   ]
  },
  {
   "cell_type": "code",
   "execution_count": null,
   "metadata": {
    "collapsed": true
   },
   "outputs": [],
   "source": []
  }
 ],
 "metadata": {
  "kernelspec": {
   "display_name": "Python 2",
   "language": "python",
   "name": "python2"
  },
  "language_info": {
   "codemirror_mode": {
    "name": "ipython",
    "version": 2
   },
   "file_extension": ".py",
   "mimetype": "text/x-python",
   "name": "python",
   "nbconvert_exporter": "python",
   "pygments_lexer": "ipython2",
   "version": "2.7.9"
  }
 },
 "nbformat": 4,
 "nbformat_minor": 0
}

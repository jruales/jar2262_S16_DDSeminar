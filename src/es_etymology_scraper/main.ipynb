{
 "cells": [
  {
   "cell_type": "code",
   "execution_count": 88,
   "metadata": {
    "collapsed": false,
    "scrolled": true
   },
   "outputs": [
    {
     "name": "stdout",
     "output_type": "stream",
     "text": [
      "de 9,999,518\n",
      "la 6,277,560\n",
      "que 4,681,839\n",
      "el 4,569,652\n",
      "en 4,234,281\n",
      "y 4,180,279\n",
      "a 3,260,939\n",
      "los 2,618,657\n",
      "se 2,022,514\n",
      "del 1,857,225\n",
      "las 1,686,741\n",
      "un 1,659,827\n",
      "por 1,561,904\n",
      "con 1,481,607\n",
      "no 1,465,503\n",
      "una 1,347,603\n",
      "su 1,103,617\n",
      "para 1,062,152\n",
      "es 1,019,669\n",
      "al 951,054\n",
      "lo 866,955\n",
      "como 773,465\n",
      "más 661,696\n",
      "['de', 'la', 'que', 'el', 'en', 'y', 'a', 'los', 'se', 'del', 'las', 'un', 'por', 'con', 'no', 'una', 'su', 'para', 'es', 'al', 'lo', 'como', 'm\\xc3\\xa1s']\n"
     ]
    }
   ],
   "source": [
    "# -*- coding: utf-8 -*-\n",
    "\n",
    "# ------------------------------------------------------------------------------\n",
    "# Imports.\n",
    "\n",
    "import re\n",
    "\n",
    "from bs4 import BeautifulSoup\n",
    "import requests\n",
    "from urllib2 import quote\n",
    "\n",
    "# ------------------------------------------------------------------------------\n",
    "# Constants.\n",
    "\n",
    "# Directory holding unigram count files.\n",
    "UNIGRAM_COUNTS_DIR = 'unigram_counts/'\n",
    "# 1000 most common CREA corpus unigrams, 36KB.\n",
    "UNIGRAM_COUNTS_FILENAME_SMALL = '1000_formas.txt'\n",
    "# 5000 most common CREA corpus unigrams, 188KB.\n",
    "UNIGRAM_COUNTS_FILENAME_MEDIUM = '5000_formas.txt'\n",
    "# 10000 most common CREA corpus unigrams, 379KB.\n",
    "UNIGRAM_COUNTS_FILENAME_LARGE = '10000_formas.txt'\n",
    "# All 737799 CREA corpus unigrams, 29MB.\n",
    "UNIGRAM_COUNTS_FILENAME_EXTRA_LARGE = 'CREA_total.txt'\n",
    "\n",
    "# ------------------------------------------------------------------------------\n",
    "# Helper Functions.\n",
    "\n",
    "def parse_words(full_unigram_counts_filename):\n",
    "    \"\"\"\n",
    "    Parses unigram counts from CREA corpus count file and returns a dictionary\n",
    "    that maps words to counts.\n",
    "    \"\"\"\n",
    "    #counts_dict = {}\n",
    "    word_list = []\n",
    "    with open(full_unigram_counts_filename, 'r') as f:\n",
    "        for line_number, line in enumerate(f):\n",
    "            if line_number is 0:\n",
    "                continue\n",
    "            if line_number is 24:\n",
    "                break\n",
    "            _, word, freq_count_str, _ = line.split()\n",
    "            freq_count = int(freq_count_str.replace(',', ''))\n",
    "            # Unigram files are encoded in latin-1. Decode them.\n",
    "            decoded_word = word.decode('latin1').encode('utf-8')\n",
    "            print(decoded_word + ' ' + freq_count_str)\n",
    "            #counts_dict[decoded_word] = freq_count\n",
    "            word_list.append(decoded_word)\n",
    "    #return counts_dict\n",
    "    return word_list\n",
    "\n",
    "word_list = parse_words(UNIGRAM_COUNTS_DIR + UNIGRAM_COUNTS_FILENAME_SMALL, )\n",
    "print(word_list)"
   ]
  },
  {
   "cell_type": "code",
   "execution_count": 89,
   "metadata": {
    "collapsed": false
   },
   "outputs": [
    {
     "name": "stdout",
     "output_type": "stream",
     "text": [
      "de\n",
      "http://dle.rae.es/srv/search?w=de&m=30\n",
      "la\n",
      "http://dle.rae.es/srv/search?w=la&m=30\n",
      "que\n",
      "http://dle.rae.es/srv/search?w=que&m=30\n",
      "el\n",
      "http://dle.rae.es/srv/search?w=el&m=30\n",
      "en\n",
      "http://dle.rae.es/srv/search?w=en&m=30\n",
      "y\n",
      "http://dle.rae.es/srv/search?w=y&m=30\n",
      "a\n",
      "http://dle.rae.es/srv/search?w=a&m=30\n",
      "los\n",
      "http://dle.rae.es/srv/search?w=los&m=30\n",
      "se\n",
      "http://dle.rae.es/srv/search?w=se&m=30\n",
      "del\n",
      "http://dle.rae.es/srv/search?w=del&m=30\n",
      "las\n",
      "http://dle.rae.es/srv/search?w=las&m=30\n",
      "un\n",
      "http://dle.rae.es/srv/search?w=un&m=30\n",
      "por\n",
      "http://dle.rae.es/srv/search?w=por&m=30\n",
      "con\n",
      "http://dle.rae.es/srv/search?w=con&m=30\n",
      "no\n",
      "http://dle.rae.es/srv/search?w=no&m=30\n",
      "una\n",
      "http://dle.rae.es/srv/search?w=una&m=30\n",
      "su\n",
      "http://dle.rae.es/srv/search?w=su&m=30\n",
      "para\n",
      "http://dle.rae.es/srv/search?w=para&m=30\n",
      "es\n",
      "http://dle.rae.es/srv/search?w=es&m=30\n",
      "al\n",
      "http://dle.rae.es/srv/search?w=al&m=30\n",
      "lo\n",
      "http://dle.rae.es/srv/search?w=lo&m=30\n",
      "como\n",
      "http://dle.rae.es/srv/search?w=como&m=30\n",
      "más\n",
      "http://dle.rae.es/srv/search?w=m%C3%A1s&m=30\n"
     ]
    }
   ],
   "source": [
    "#print(word_list)\n",
    "for word in word_list:\n",
    "    print(word)\n",
    "    url = 'http://dle.rae.es/srv/search?w=' + quote(word) + '&m=30'\n",
    "    print(url)\n",
    "    #break"
   ]
  },
  {
   "cell_type": "code",
   "execution_count": null,
   "metadata": {
    "collapsed": true
   },
   "outputs": [],
   "source": []
  }
 ],
 "metadata": {
  "kernelspec": {
   "display_name": "Python 2",
   "language": "python",
   "name": "python2"
  },
  "language_info": {
   "codemirror_mode": {
    "name": "ipython",
    "version": 2
   },
   "file_extension": ".py",
   "mimetype": "text/x-python",
   "name": "python",
   "nbconvert_exporter": "python",
   "pygments_lexer": "ipython2",
   "version": "2.7.9"
  }
 },
 "nbformat": 4,
 "nbformat_minor": 0
}
